{
 "cells": [
  {
   "cell_type": "markdown",
   "metadata": {},
   "source": [
    "# Medical Imaging Quality Workshop\n",
    "\n",
    "Irene Fantini, Wallace Loos, Marina Salluzzi, Roberto Souza, Mariana Bento, Richard Frayne, Letícia Rittner*<br>\n",
    "Date: October 25th, November 1st and 11th, 2019<br>\n",
    "Place: FEEC - Universidade Estadual de Campinas\n",
    "\n",
    "\n",
    "## Contends\n",
    "\n",
    "### [Best pratices](ML_best_pratices.ipynb)\n",
    "\n",
    "### I - Presentation\n",
    "\n",
    "1. Welcome \n",
    "2. Medical Images Issues\n",
    "3. [Motion Artifacts](motion_artifacts.pdf)\n",
    "4. Challenge \n",
    "    - [speech](challenge_presentation.pptx)\n",
    "    - [description](challenge.desc.pdf)\n",
    "       "
   ]
  },
  {
   "cell_type": "markdown",
   "metadata": {},
   "source": [
    "### II - Challenge notebooks\n",
    "\n",
    "#### Reading data\n",
    "- Reading and visualizing data\n",
    "    * NB: [read and visualize](read_and_visualize.ipynb) \n",
    "\n",
    "#### Create h5py\n",
    "- Readin each nifti image during training takes time. One approach is create a h5 file that stores all data as numpy data.\n",
    " * NB: [Create h5](create_h5.ipynb)\n",
    " \n",
    "#### Unsupervised classification\n",
    "- Training Kmeans to classify MR x CT\n",
    "    * NB: [Unsupervised Classifier for MR x CT task](unsupervised_classifier_for_MRxCT_task.ipynb)\n",
    "\n",
    " \n",
    "#### Supervised classification\n",
    "- Training a Deep CNN ResNet to classify MR x CT\n",
    "    * NB: [Deep CNN Classifier for MR x CT task](DL_classifier_for_MRxCT_task.ipynb)\n",
    "    * NB: [Deep CNN Classifier for MR x CT task 2nd part due time-out in colab](DL_classifier_for_MRxCT_task_2nd_part.ipynb)\n",
    "    * NB: [Testing Deep CNN Classifier for MR x CT task](DL_classifier_for_MRxCT_task_test.ipynb)\n",
    "\n"
   ]
  },
  {
   "cell_type": "markdown",
   "metadata": {},
   "source": [
    "## Documentação\n",
    "\n",
    "- [Jupyter Notebook](http://jupyter-notebook.readthedocs.io/en/latest/notebook.html)"
   ]
  },
  {
   "cell_type": "code",
   "execution_count": null,
   "metadata": {
    "collapsed": true
   },
   "outputs": [],
   "source": []
  }
 ],
 "metadata": {
  "anaconda-cloud": {},
  "kernelspec": {
   "display_name": "Python 2",
   "language": "python",
   "name": "python2"
  },
  "language_info": {
   "codemirror_mode": {
    "name": "ipython",
    "version": 2
   },
   "file_extension": ".py",
   "mimetype": "text/x-python",
   "name": "python",
   "nbconvert_exporter": "python",
   "pygments_lexer": "ipython2",
   "version": "2.7.15+"
  }
 },
 "nbformat": 4,
 "nbformat_minor": 1
}

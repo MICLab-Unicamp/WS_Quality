{
 "cells": [
  {
   "cell_type": "markdown",
   "metadata": {
    "colab_type": "text",
    "id": "C0Y0-LIdEw5f"
   },
   "source": [
    "## Create h5"
   ]
  },
  {
   "cell_type": "code",
   "execution_count": 1,
   "metadata": {
    "colab": {},
    "colab_type": "code",
    "id": "lySo7FVRk0iZ"
   },
   "outputs": [],
   "source": [
    "import h5py \n",
    "import cv2"
   ]
  },
  {
   "cell_type": "markdown",
   "metadata": {},
   "source": [
    "## Install nibabel"
   ]
  },
  {
   "cell_type": "code",
   "execution_count": 2,
   "metadata": {},
   "outputs": [
    {
     "name": "stdout",
     "output_type": "stream",
     "text": [
      "Requirement already satisfied: nibabel in /home/ubuntu/.local/lib/python2.7/site-packages (2.5.1)\n",
      "Requirement already satisfied: bz2file; python_version < \"3.0\" in /home/ubuntu/.local/lib/python2.7/site-packages (from nibabel) (0.98)\n",
      "Requirement already satisfied: numpy>=1.8 in /home/ubuntu/anaconda3/envs/amazonei_tensorflow_p27/lib/python2.7/site-packages (from nibabel) (1.14.3)\n",
      "Requirement already satisfied: six>=1.3 in /home/ubuntu/anaconda3/envs/amazonei_tensorflow_p27/lib/python2.7/site-packages (from nibabel) (1.11.0)\n",
      "\u001b[33mYou are using pip version 10.0.1, however version 19.3.1 is available.\n",
      "You should consider upgrading via the 'pip install --upgrade pip' command.\u001b[0m\n"
     ]
    }
   ],
   "source": [
    "import sys\n",
    "!{sys.executable} -m pip install nibabel --user"
   ]
  },
  {
   "cell_type": "code",
   "execution_count": 3,
   "metadata": {},
   "outputs": [],
   "source": [
    "import nibabel as nib"
   ]
  },
  {
   "cell_type": "code",
   "execution_count": 4,
   "metadata": {
    "colab": {
     "base_uri": "https://localhost:8080/",
     "height": 52
    },
    "colab_type": "code",
    "id": "jzkSJ_nAe-WK",
    "outputId": "8ceb14c4-f393-48b8-f66e-1ddc94af2432"
   },
   "outputs": [],
   "source": [
    "import pandas as pd\n",
    "import numpy as np\n",
    "import os\n",
    "import sys\n",
    "import matplotlib.pyplot as plt\n",
    "import glob"
   ]
  },
  {
   "cell_type": "markdown",
   "metadata": {},
   "source": [
    "## Read csv file"
   ]
  },
  {
   "cell_type": "code",
   "execution_count": 5,
   "metadata": {
    "colab": {
     "base_uri": "https://localhost:8080/",
     "height": 52
    },
    "colab_type": "code",
    "id": "jzkSJ_nAe-WK",
    "outputId": "8ceb14c4-f393-48b8-f66e-1ddc94af2432"
   },
   "outputs": [
    {
     "data": {
      "text/plain": [
       "Index([u'Id', u'CT', u'MR', u'GE', u'Siemens', u'Philips', u'Toshiba', u'CTA',\n",
       "       u'NCTT', u'T2W', u'T1W', u'DWI', u'FLAIR', u'GRE', u' 1_5', u'3', u'AX',\n",
       "       u'SAG', u'COR'],\n",
       "      dtype='object')"
      ]
     },
     "execution_count": 5,
     "metadata": {},
     "output_type": "execute_result"
    }
   ],
   "source": [
    "DATASET_STRUCTURED_DIR = \"/home/ubuntu/volume1/BrainHack/\"\n",
    "\n",
    "data = pd.read_csv(DATASET_STRUCTURED_DIR+\"dataset.csv\",header=0)\n",
    "head = data.columns\n",
    "head"
   ]
  },
  {
   "cell_type": "code",
   "execution_count": 36,
   "metadata": {
    "colab": {
     "base_uri": "https://localhost:8080/",
     "height": 54
    },
    "colab_type": "code",
    "id": "Bss58mAHeY9f",
    "outputId": "36cf3b49-aaa2-43ae-f685-0b273d04e04a"
   },
   "outputs": [],
   "source": [
    "data_array = data.to_numpy()\n",
    "X = data_array[:,0]\n",
    "y = data_array[:,1:]"
   ]
  },
  {
   "cell_type": "markdown",
   "metadata": {},
   "source": [
    "## Create labels"
   ]
  },
  {
   "cell_type": "code",
   "execution_count": 37,
   "metadata": {
    "colab": {},
    "colab_type": "code",
    "id": "p09I5tcaZ8sE"
   },
   "outputs": [
    {
     "name": "stderr",
     "output_type": "stream",
     "text": [
      "/home/ubuntu/anaconda3/envs/amazonei_tensorflow_p27/lib/python2.7/site-packages/ipykernel/__main__.py:29: DeprecationWarning: elementwise != comparison failed; this will raise an error in the future.\n",
      "/home/ubuntu/anaconda3/envs/amazonei_tensorflow_p27/lib/python2.7/site-packages/ipykernel/__main__.py:29: DeprecationWarning: The truth value of an empty array is ambiguous. Returning False, but in future this will result in an error. Use `array.size > 0` to check that an array is not empty.\n"
     ]
    }
   ],
   "source": [
    "X_train = []\n",
    "Y_train = []\n",
    "X_val = []\n",
    "Y_val = []\n",
    "X_test = []\n",
    "Y_test = []\n",
    "\n",
    "for i1 in np.arange(2):\n",
    "    idx = np.argwhere(y[:,i1]==1)\n",
    "    for i2 in np.arange(2,6):\n",
    "        idx2 = np.argwhere(y[idx,i2]==1)\n",
    "        if i1 == 0:\n",
    "            for i3 in np.arange(6,8):\n",
    "                idx3 = np.argwhere(y[idx[idx2[:,0]],i3]==1)\n",
    "                X_train.append(X[idx[idx2[idx3[:-4,0],0],0]])\n",
    "                Y_train.append(y[idx[idx2[idx3[:-4,0],0],0]])\n",
    "                X_val.append(X[idx[idx2[idx3[-4:-2,0],0],0]])\n",
    "                Y_val.append(y[idx[idx2[idx3[-4:-2,0],0],0]])\n",
    "                X_test.append(X[idx[idx2[idx3[-2:,0],0],0]])\n",
    "                Y_test.append(y[idx[idx2[idx3[-2:,0],0],0]])\n",
    "\n",
    "        elif i1 == 1:\n",
    "            for i4 in np.arange(8,13):\n",
    "                idx4 = np.argwhere(y[idx[idx2[:,0]],i4]==1)\n",
    "                for i3 in np.arange(13,15):\n",
    "                    idx3 = np.argwhere(y[idx[idx2[idx4[:,0],0]],i3]==1)\n",
    "                    for i5 in np.arange(15,18):\n",
    "                        idx5 = np.argwhere(y[idx[idx2[idx4[idx3[:,0],0],0]],i5]==1)\n",
    "                        if X[idx[idx2[idx3[idx5[:,0],0],0],0]] != []:\n",
    "                            if idx5.shape[0] < 5:                              \n",
    "                                X_train.append(X[idx[idx2[idx4[idx3[idx5[:,0],0],0],0],0]])\n",
    "                                Y_train.append(y[idx[idx2[idx4[idx3[idx5[:,0],0],0],0],0]])\n",
    "\n",
    "                            else: \n",
    "                                X_train.append(X[idx[idx2[idx4[idx3[idx5[:-4,0],0],0],0],0]])\n",
    "                                Y_train.append(y[idx[idx2[idx4[idx3[idx5[:-4,0],0],0],0],0]])\n",
    "                                X_val.append(X[idx[idx2[idx3[idx5[-4:-2,0],0],0],0]])\n",
    "                                Y_val.append(y[idx[idx2[idx3[idx5[-4:-2,0],0],0],0]])\n",
    "                                X_test.append(X[idx[idx2[idx4[idx3[idx5[-2:,0],0],0],0],0]])\n",
    "                                Y_test.append(y[idx[idx2[idx4[idx3[idx5[-2:,0],0],0],0],0]])"
   ]
  },
  {
   "cell_type": "code",
   "execution_count": 8,
   "metadata": {
    "colab": {
     "base_uri": "https://localhost:8080/",
     "height": 139
    },
    "colab_type": "code",
    "id": "KvxsHcmdlGvJ",
    "outputId": "478dea12-de10-4305-91fa-9ad4ac20f92f"
   },
   "outputs": [
    {
     "data": {
      "text/plain": [
       "(727, 18)"
      ]
     },
     "execution_count": 8,
     "metadata": {},
     "output_type": "execute_result"
    }
   ],
   "source": [
    "y.shape"
   ]
  },
  {
   "cell_type": "code",
   "execution_count": 9,
   "metadata": {},
   "outputs": [
    {
     "name": "stdout",
     "output_type": "stream",
     "text": [
      "((448, 18), (78, 18), (78, 18))\n"
     ]
    }
   ],
   "source": [
    "print(np.vstack(Y_train).shape,np.vstack(Y_val).shape,np.vstack(Y_test).shape)"
   ]
  },
  {
   "cell_type": "markdown",
   "metadata": {
    "colab_type": "text",
    "id": "JXUmlAGyE7Lu"
   },
   "source": [
    "# Creating h5 files\n",
    "\n",
    "label: [CT MR GE Siemens Philips Toshiba CTA NCTT T2W T1W DWI FLAIR GRE 1_5 3 AX SAG COR]"
   ]
  },
  {
   "cell_type": "code",
   "execution_count": 29,
   "metadata": {
    "colab": {},
    "colab_type": "code",
    "id": "-Gwy1OG6bPVL"
   },
   "outputs": [],
   "source": [
    "def create_h5_data(X,Y,group):\n",
    "    #initialization \n",
    "    cnt = 0\n",
    "    cntp = 0\n",
    "    y = np.zeros(18)\n",
    "\n",
    "    img_size = [224,224]\n",
    "\n",
    "    # address to where you want to save the hdf5 file\n",
    "    hdf5_path = DATASET_STRUCTURED_DIR+\"/BrainHack_quality_\"+group+\".hdf5\"\n",
    "    # open a hdf5 file and create datasets\n",
    "    with h5py.File(hdf5_path, 'a') as hdf5_file:\n",
    "        print(X.shape)\n",
    "\n",
    "        for d,data in enumerate(X):\n",
    "            if Y[d,0] == 1:\n",
    "                path = glob.glob(DATASET_STRUCTURED_DIR+'*/*/*/*/'+data+'.nii')\n",
    "                Y[d,15] = 1\n",
    "            else:\n",
    "                path = glob.glob(DATASET_STRUCTURED_DIR+'*/*/*/*/*/'+data+'.nii')\n",
    "\n",
    "            x1 = (nib.load(path[0]).get_data())\n",
    "            img = []\n",
    "            #print('img read',x1.shape)\n",
    "            for i3 in np.arange(x1.shape[2]):\n",
    "                if x1.ndim == 4:\n",
    "                    for i4 in np.arange(x1.shape[3]):\n",
    "                        img.append(cv2.resize(x1[:,:,i3,i4],(img_size[0],img_size[1])).reshape(1,img_size[0],img_size[1],1))\n",
    "                else:\n",
    "                    img.append(cv2.resize(x1[:,:,i3],(img_size[0],img_size[1])).reshape(1,img_size[0],img_size[1],1))\n",
    "            x = np.vstack(img)\n",
    "            full_size = x.shape[0]-4\n",
    "\n",
    "            if not np.array_equal(y, Y[d]):\n",
    "                print('nsamples',cnt-cntp)\n",
    "                print('Label',Y[d])\n",
    "                cntp = cnt\n",
    "\n",
    "            y = np.array(Y[d],dtype='uint8')\n",
    "            #print('labels',y)\n",
    "            #print(full_size)\n",
    "\n",
    "            data_shape = (full_size,x.shape[1],x.shape[2],1)\n",
    "            if d == 0:\n",
    "                hdf5_file.create_dataset(\"img\", data_shape, maxshape=(None, x.shape[1],x.shape[2],1), dtype=np.float64,chunks=True)\n",
    "                hdf5_file.create_dataset(\"labels\", (full_size,18), maxshape=(None, 18),dtype='uint8',chunks=True)\n",
    "                hdf5_file.create_dataset(\"names\", (full_size,), maxshape=(None, ), dtype=\"S50\",chunks=True)\n",
    "            else:\n",
    "                hdf5_file[\"img\"].resize((hdf5_file[\"img\"].shape[0] + full_size), axis = 0)\n",
    "                hdf5_file[\"labels\"].resize((hdf5_file[\"labels\"].shape[0] + full_size), axis = 0)\n",
    "                hdf5_file[\"names\"].resize((hdf5_file[\"names\"].shape[0] + full_size), axis = 0)\n",
    "\n",
    "\n",
    "\n",
    "            hdf5_file[\"img\"][cnt:cnt+full_size,:,:,:] = x[2:-2,:,:,:]\n",
    "            hdf5_file[\"labels\"][cnt:cnt+full_size,:] = np.full((full_size,18),y)\n",
    "            hdf5_file[\"names\"][cnt:cnt+full_size] = np.full(full_size,data)\n",
    "            cnt += full_size\n",
    "\n",
    "\n",
    "        hdf5_file.close()\n",
    "\n",
    "        return\n",
    "    "
   ]
  },
  {
   "cell_type": "code",
   "execution_count": 30,
   "metadata": {
    "colab": {
     "base_uri": "https://localhost:8080/",
     "height": 1000
    },
    "colab_type": "code",
    "id": "DXHpYaE0dh5l",
    "outputId": "0c224ae5-a188-4483-bb9f-0d620f0a867a"
   },
   "outputs": [
    {
     "name": "stdout",
     "output_type": "stream",
     "text": [
      "(448,)\n",
      "('nsamples', 0)\n",
      "('Label', array([1, 0, 1, 0, 0, 0, 1, 0, 0, 0, 0, 0, 0, 0, 0, 1, 0, 0], dtype=object))\n",
      "('nsamples', 3721)\n",
      "('Label', array([1, 0, 1, 0, 0, 0, 0, 1, 0, 0, 0, 0, 0, 0, 0, 1, 0, 0], dtype=object))\n",
      "('nsamples', 534)\n",
      "('Label', array([1, 0, 0, 1, 0, 0, 1, 0, 0, 0, 0, 0, 0, 0, 0, 1, 0, 0], dtype=object))\n",
      "('nsamples', 3909)\n",
      "('Label', array([1, 0, 0, 1, 0, 0, 0, 1, 0, 0, 0, 0, 0, 0, 0, 1, 0, 0], dtype=object))\n",
      "('nsamples', 852)\n",
      "('Label', array([1, 0, 0, 0, 1, 0, 1, 0, 0, 0, 0, 0, 0, 0, 0, 1, 0, 0], dtype=object))\n",
      "('nsamples', 4368)\n",
      "('Label', array([1, 0, 0, 0, 1, 0, 0, 1, 0, 0, 0, 0, 0, 0, 0, 1, 0, 0], dtype=object))\n",
      "('nsamples', 592)\n",
      "('Label', array([1, 0, 0, 0, 0, 1, 1, 0, 0, 0, 0, 0, 0, 0, 0, 1, 0, 0], dtype=object))\n",
      "('nsamples', 4425)\n",
      "('Label', array([1, 0, 0, 0, 0, 1, 0, 1, 0, 0, 0, 0, 0, 0, 0, 1, 0, 0], dtype=object))\n",
      "('nsamples', 493)\n",
      "('Label', array([0, 1, 1, 0, 0, 0, 0, 0, 1, 0, 0, 0, 0, 1, 0, 1, 0, 0], dtype=object))\n",
      "('nsamples', 319)\n",
      "('Label', array([0, 1, 1, 0, 0, 0, 0, 0, 1, 0, 0, 0, 0, 0, 1, 1, 0, 0], dtype=object))\n",
      "('nsamples', 244)\n",
      "('Label', array([0, 1, 1, 0, 0, 0, 0, 0, 1, 0, 0, 0, 0, 0, 1, 0, 0, 1], dtype=object))\n",
      "('nsamples', 457)\n",
      "('Label', array([0, 1, 1, 0, 0, 0, 0, 0, 0, 1, 0, 0, 0, 1, 0, 1, 0, 0], dtype=object))\n",
      "('nsamples', 65)\n",
      "('Label', array([0, 1, 1, 0, 0, 0, 0, 0, 0, 1, 0, 0, 0, 1, 0, 0, 1, 0], dtype=object))\n",
      "('nsamples', 145)\n",
      "('Label', array([0, 1, 1, 0, 0, 0, 0, 0, 0, 1, 0, 0, 0, 0, 1, 0, 1, 0], dtype=object))\n",
      "('nsamples', 230)\n",
      "('Label', array([0, 1, 1, 0, 0, 0, 0, 0, 0, 0, 1, 0, 0, 1, 0, 1, 0, 0], dtype=object))\n",
      "('nsamples', 992)\n",
      "('Label', array([0, 1, 1, 0, 0, 0, 0, 0, 0, 0, 1, 0, 0, 0, 1, 1, 0, 0], dtype=object))\n",
      "('nsamples', 1732)\n",
      "('Label', array([0, 1, 1, 0, 0, 0, 0, 0, 0, 0, 0, 1, 0, 1, 0, 1, 0, 0], dtype=object))\n",
      "('nsamples', 576)\n",
      "('Label', array([0, 1, 1, 0, 0, 0, 0, 0, 0, 0, 0, 1, 0, 0, 1, 1, 0, 0], dtype=object))\n",
      "('nsamples', 616)\n",
      "('Label', array([0, 1, 1, 0, 0, 0, 0, 0, 0, 0, 0, 0, 1, 1, 0, 1, 0, 0], dtype=object))\n",
      "('nsamples', 346)\n",
      "('Label', array([0, 1, 1, 0, 0, 0, 0, 0, 0, 0, 0, 0, 1, 0, 1, 1, 0, 0], dtype=object))\n",
      "('nsamples', 242)\n",
      "('Label', array([0, 1, 0, 1, 0, 0, 0, 0, 1, 0, 0, 0, 0, 1, 0, 1, 0, 0], dtype=object))\n",
      "('nsamples', 337)\n",
      "('Label', array([0, 1, 0, 1, 0, 0, 0, 0, 1, 0, 0, 0, 0, 0, 1, 1, 0, 0], dtype=object))\n",
      "('nsamples', 224)\n",
      "('Label', array([0, 1, 0, 1, 0, 0, 0, 0, 0, 1, 0, 0, 0, 1, 0, 1, 0, 0], dtype=object))\n",
      "('nsamples', 60)\n",
      "('Label', array([0, 1, 0, 1, 0, 0, 0, 0, 0, 1, 0, 0, 0, 1, 0, 0, 1, 0], dtype=object))\n",
      "('nsamples', 217)\n",
      "('Label', array([0, 1, 0, 1, 0, 0, 0, 0, 0, 1, 0, 0, 0, 0, 1, 0, 1, 0], dtype=object))\n",
      "('nsamples', 515)\n",
      "('Label', array([0, 1, 0, 1, 0, 0, 0, 0, 0, 0, 1, 0, 0, 0, 1, 1, 0, 0], dtype=object))\n",
      "('nsamples', 1208)\n",
      "('Label', array([0, 1, 0, 1, 0, 0, 0, 0, 0, 0, 0, 1, 0, 1, 0, 1, 0, 0], dtype=object))\n",
      "('nsamples', 510)\n",
      "('Label', array([0, 1, 0, 1, 0, 0, 0, 0, 0, 0, 0, 1, 0, 0, 1, 1, 0, 0], dtype=object))\n",
      "('nsamples', 568)\n",
      "('Label', array([0, 1, 0, 1, 0, 0, 0, 0, 0, 0, 0, 0, 1, 1, 0, 1, 0, 0], dtype=object))\n",
      "('nsamples', 388)\n",
      "('Label', array([0, 1, 0, 0, 1, 0, 0, 0, 1, 0, 0, 0, 0, 1, 0, 1, 0, 0], dtype=object))\n",
      "('nsamples', 180)\n",
      "('Label', array([0, 1, 0, 0, 1, 0, 0, 0, 1, 0, 0, 0, 0, 0, 1, 1, 0, 0], dtype=object))\n",
      "('nsamples', 224)\n",
      "('Label', array([0, 1, 0, 0, 1, 0, 0, 0, 0, 1, 0, 0, 0, 0, 1, 1, 0, 0], dtype=object))\n",
      "('nsamples', 120)\n",
      "('Label', array([0, 1, 0, 0, 1, 0, 0, 0, 0, 1, 0, 0, 0, 0, 1, 0, 1, 0], dtype=object))\n",
      "('nsamples', 37)\n",
      "('Label', array([0, 1, 0, 0, 1, 0, 0, 0, 0, 0, 1, 0, 0, 1, 0, 1, 0, 0], dtype=object))\n",
      "('nsamples', 102)\n",
      "('Label', array([0, 1, 0, 0, 1, 0, 0, 0, 0, 0, 1, 0, 0, 0, 1, 1, 0, 0], dtype=object))\n",
      "('nsamples', 245)\n",
      "('Label', array([0, 1, 0, 0, 1, 0, 0, 0, 0, 0, 0, 1, 0, 1, 0, 1, 0, 0], dtype=object))\n",
      "('nsamples', 181)\n",
      "('Label', array([0, 1, 0, 0, 1, 0, 0, 0, 0, 0, 0, 1, 0, 0, 1, 1, 0, 0], dtype=object))\n",
      "('nsamples', 238)\n",
      "('Label', array([0, 1, 0, 0, 1, 0, 0, 0, 0, 0, 0, 0, 1, 1, 0, 1, 0, 0], dtype=object))\n",
      "('nsamples', 90)\n",
      "('Label', array([0, 1, 0, 0, 1, 0, 0, 0, 0, 0, 0, 0, 1, 0, 1, 1, 0, 0], dtype=object))\n"
     ]
    }
   ],
   "source": [
    "create_h5_data(np.hstack(X_train),np.vstack(Y_train),'train')"
   ]
  },
  {
   "cell_type": "code",
   "execution_count": 24,
   "metadata": {
    "colab": {
     "base_uri": "https://localhost:8080/",
     "height": 1000
    },
    "colab_type": "code",
    "id": "-E8oQxAblknh",
    "outputId": "bcfd669c-95b3-40e9-de5a-f313beeee6e0"
   },
   "outputs": [
    {
     "name": "stdout",
     "output_type": "stream",
     "text": [
      "(78,)\n",
      "('nsamples', 0)\n",
      "('Label', array([1, 0, 1, 0, 0, 0, 1, 0, 0, 0, 0, 0, 0, 0, 0, 1, 0, 0], dtype=object))\n",
      "('nsamples', 205)\n",
      "('Label', array([1, 0, 1, 0, 0, 0, 0, 1, 0, 0, 0, 0, 0, 0, 0, 1, 0, 0], dtype=object))\n",
      "('nsamples', 56)\n",
      "('Label', array([1, 0, 0, 1, 0, 0, 1, 0, 0, 0, 0, 0, 0, 0, 0, 1, 0, 0], dtype=object))\n",
      "('nsamples', 230)\n",
      "('Label', array([1, 0, 0, 1, 0, 0, 0, 1, 0, 0, 0, 0, 0, 0, 0, 1, 0, 0], dtype=object))\n",
      "('nsamples', 59)\n",
      "('Label', array([1, 0, 0, 0, 1, 0, 1, 0, 0, 0, 0, 0, 0, 0, 0, 1, 0, 0], dtype=object))\n",
      "('nsamples', 185)\n",
      "('Label', array([1, 0, 0, 0, 1, 0, 0, 1, 0, 0, 0, 0, 0, 0, 0, 1, 0, 0], dtype=object))\n",
      "('nsamples', 73)\n",
      "('Label', array([1, 0, 0, 0, 0, 1, 1, 0, 0, 0, 0, 0, 0, 0, 0, 1, 0, 0], dtype=object))\n",
      "('nsamples', 829)\n",
      "('Label', array([1, 0, 0, 0, 0, 1, 0, 1, 0, 0, 0, 0, 0, 0, 0, 1, 0, 0], dtype=object))\n",
      "('nsamples', 111)\n",
      "('Label', array([0, 1, 1, 0, 0, 0, 0, 0, 0, 0, 1, 0, 0, 1, 0, 1, 0, 0], dtype=object))\n",
      "('nsamples', 112)\n",
      "('Label', array([0, 1, 1, 0, 0, 0, 0, 0, 0, 0, 1, 0, 0, 1, 0, 0, 0, 0], dtype=object))\n",
      "('nsamples', 66)\n",
      "('Label', array([0, 1, 1, 0, 0, 0, 0, 0, 0, 0, 1, 0, 0, 0, 1, 1, 0, 0], dtype=object))\n",
      "('nsamples', 478)\n",
      "('Label', array([0, 1, 1, 0, 0, 0, 0, 0, 0, 0, 1, 0, 0, 1, 0, 1, 0, 0], dtype=object))\n",
      "('nsamples', 380)\n",
      "('Label', array([0, 1, 1, 0, 0, 0, 0, 0, 0, 0, 1, 0, 0, 1, 0, 0, 0, 0], dtype=object))\n",
      "('nsamples', 26)\n",
      "('Label', array([0, 1, 1, 0, 0, 0, 0, 0, 0, 0, 1, 0, 0, 0, 1, 1, 0, 0], dtype=object))\n",
      "('nsamples', 140)\n",
      "('Label', array([0, 1, 1, 0, 0, 0, 0, 0, 0, 0, 1, 0, 0, 0, 1, 0, 0, 0], dtype=object))\n",
      "('nsamples', 40)\n",
      "('Label', array([0, 1, 1, 0, 0, 0, 0, 0, 0, 0, 1, 0, 0, 1, 0, 1, 0, 0], dtype=object))\n",
      "('nsamples', 206)\n",
      "('Label', array([0, 1, 1, 0, 0, 0, 0, 0, 0, 0, 1, 0, 0, 0, 1, 1, 0, 0], dtype=object))\n",
      "('nsamples', 539)\n",
      "('Label', array([0, 1, 1, 0, 0, 0, 0, 0, 0, 0, 0, 1, 0, 1, 0, 1, 0, 0], dtype=object))\n",
      "('nsamples', 42)\n",
      "('Label', array([0, 1, 1, 0, 0, 0, 0, 0, 0, 0, 1, 0, 0, 1, 0, 1, 0, 0], dtype=object))\n",
      "('nsamples', 286)\n",
      "('Label', array([0, 1, 1, 0, 0, 0, 0, 0, 0, 0, 1, 0, 0, 0, 1, 1, 0, 0], dtype=object))\n",
      "('nsamples', 87)\n",
      "('Label', array([0, 1, 0, 1, 0, 0, 0, 0, 0, 0, 1, 0, 0, 0, 1, 1, 0, 0], dtype=object))\n",
      "('nsamples', 188)\n",
      "('Label', array([0, 1, 0, 1, 0, 0, 0, 0, 0, 0, 1, 0, 0, 0, 1, 0, 0, 0], dtype=object))\n",
      "('nsamples', 131)\n",
      "('Label', array([0, 1, 0, 1, 0, 0, 0, 0, 0, 0, 1, 0, 0, 1, 0, 0, 0, 0], dtype=object))\n",
      "('nsamples', 82)\n",
      "('Label', array([0, 1, 0, 1, 0, 0, 0, 0, 0, 0, 1, 0, 0, 1, 0, 1, 0, 0], dtype=object))\n",
      "('nsamples', 86)\n",
      "('Label', array([0, 1, 0, 1, 0, 0, 0, 0, 0, 0, 1, 0, 0, 1, 0, 0, 0, 0], dtype=object))\n",
      "('nsamples', 146)\n",
      "('Label', array([0, 1, 0, 1, 0, 0, 0, 0, 0, 0, 1, 0, 0, 0, 1, 1, 0, 0], dtype=object))\n",
      "('nsamples', 76)\n",
      "('Label', array([0, 1, 0, 1, 0, 0, 0, 0, 0, 0, 0, 1, 0, 1, 0, 1, 0, 0], dtype=object))\n",
      "('nsamples', 26)\n",
      "('Label', array([0, 1, 0, 1, 0, 0, 0, 0, 0, 0, 1, 0, 0, 0, 1, 1, 0, 0], dtype=object))\n",
      "('nsamples', 142)\n",
      "('Label', array([0, 1, 0, 1, 0, 0, 0, 0, 0, 0, 0, 1, 0, 1, 0, 0, 0, 0], dtype=object))\n",
      "('nsamples', 23)\n",
      "('Label', array([0, 1, 0, 1, 0, 0, 0, 0, 0, 0, 0, 1, 0, 1, 0, 1, 0, 0], dtype=object))\n",
      "('nsamples', 24)\n",
      "('Label', array([0, 1, 0, 1, 0, 0, 0, 0, 0, 0, 1, 0, 0, 1, 0, 0, 0, 0], dtype=object))\n",
      "('nsamples', 286)\n",
      "('Label', array([0, 1, 0, 0, 1, 0, 0, 0, 0, 0, 1, 0, 0, 0, 1, 0, 0, 0], dtype=object))\n",
      "('nsamples', 29)\n",
      "('Label', array([0, 1, 0, 0, 1, 0, 0, 0, 0, 0, 1, 0, 0, 0, 1, 1, 0, 0], dtype=object))\n",
      "('nsamples', 43)\n",
      "('Label', array([0, 1, 0, 0, 1, 0, 0, 0, 0, 0, 1, 0, 0, 0, 1, 0, 0, 0], dtype=object))\n",
      "('nsamples', 71)\n",
      "('Label', array([0, 1, 0, 0, 1, 0, 0, 0, 0, 0, 1, 0, 0, 0, 1, 1, 0, 0], dtype=object))\n",
      "('nsamples', 43)\n",
      "('Label', array([0, 1, 0, 0, 1, 0, 0, 0, 0, 0, 1, 0, 0, 0, 1, 0, 0, 0], dtype=object))\n",
      "('nsamples', 163)\n",
      "('Label', array([0, 1, 0, 0, 1, 0, 0, 0, 0, 0, 1, 0, 0, 1, 0, 1, 0, 0], dtype=object))\n",
      "('nsamples', 112)\n",
      "('Label', array([0, 1, 0, 0, 1, 0, 0, 0, 0, 0, 1, 0, 0, 0, 1, 1, 0, 0], dtype=object))\n",
      "('nsamples', 92)\n",
      "('Label', array([0, 1, 0, 0, 1, 0, 0, 0, 0, 0, 1, 0, 0, 0, 1, 0, 0, 0], dtype=object))\n",
      "('nsamples', 29)\n",
      "('Label', array([0, 1, 0, 0, 1, 0, 0, 0, 0, 0, 1, 0, 0, 0, 1, 1, 0, 0], dtype=object))\n",
      "('nsamples', 43)\n",
      "('Label', array([0, 1, 0, 0, 1, 0, 0, 0, 0, 0, 0, 1, 0, 1, 0, 1, 0, 0], dtype=object))\n",
      "('nsamples', 44)\n",
      "('Label', array([0, 1, 0, 0, 1, 0, 0, 0, 0, 0, 1, 0, 0, 1, 0, 0, 0, 0], dtype=object))\n",
      "('nsamples', 22)\n",
      "('Label', array([0, 1, 0, 0, 1, 0, 0, 0, 0, 0, 1, 0, 0, 1, 0, 1, 0, 0], dtype=object))\n",
      "('nsamples', 56)\n",
      "('Label', array([0, 1, 0, 0, 1, 0, 0, 0, 0, 0, 1, 0, 0, 0, 1, 0, 0, 0], dtype=object))\n"
     ]
    }
   ],
   "source": [
    "create_h5_data(np.hstack(X_val),np.vstack(Y_val),'val')\n"
   ]
  },
  {
   "cell_type": "code",
   "execution_count": 25,
   "metadata": {
    "colab": {
     "base_uri": "https://localhost:8080/",
     "height": 1000
    },
    "colab_type": "code",
    "id": "gsLBnv1jgbHs",
    "outputId": "30ad9d42-c71d-4ed2-809f-4e13e283321b"
   },
   "outputs": [
    {
     "name": "stdout",
     "output_type": "stream",
     "text": [
      "(78,)\n",
      "('nsamples', 0)\n",
      "('Label', array([1, 0, 1, 0, 0, 0, 1, 0, 0, 0, 0, 0, 0, 0, 0, 1, 0, 0], dtype=object))\n",
      "('nsamples', 537)\n",
      "('Label', array([1, 0, 1, 0, 0, 0, 0, 1, 0, 0, 0, 0, 0, 0, 0, 1, 0, 0], dtype=object))\n",
      "('nsamples', 64)\n",
      "('Label', array([1, 0, 0, 1, 0, 0, 1, 0, 0, 0, 0, 0, 0, 0, 0, 1, 0, 0], dtype=object))\n",
      "('nsamples', 26)\n",
      "('Label', array([1, 0, 0, 1, 0, 0, 0, 1, 0, 0, 0, 0, 0, 0, 0, 1, 0, 0], dtype=object))\n",
      "('nsamples', 165)\n",
      "('Label', array([1, 0, 0, 0, 1, 0, 1, 0, 0, 0, 0, 0, 0, 0, 0, 1, 0, 0], dtype=object))\n",
      "('nsamples', 506)\n",
      "('Label', array([1, 0, 0, 0, 1, 0, 0, 1, 0, 0, 0, 0, 0, 0, 0, 1, 0, 0], dtype=object))\n",
      "('nsamples', 76)\n",
      "('Label', array([1, 0, 0, 0, 0, 1, 1, 0, 0, 0, 0, 0, 0, 0, 0, 1, 0, 0], dtype=object))\n",
      "('nsamples', 638)\n",
      "('Label', array([1, 0, 0, 0, 0, 1, 0, 1, 0, 0, 0, 0, 0, 0, 0, 1, 0, 0], dtype=object))\n",
      "('nsamples', 101)\n",
      "('Label', array([0, 1, 1, 0, 0, 0, 0, 0, 1, 0, 0, 0, 0, 1, 0, 1, 0, 0], dtype=object))\n",
      "('nsamples', 49)\n",
      "('Label', array([0, 1, 1, 0, 0, 0, 0, 0, 1, 0, 0, 0, 0, 0, 1, 1, 0, 0], dtype=object))\n",
      "('nsamples', 61)\n",
      "('Label', array([0, 1, 1, 0, 0, 0, 0, 0, 1, 0, 0, 0, 0, 0, 1, 0, 0, 1], dtype=object))\n",
      "('nsamples', 74)\n",
      "('Label', array([0, 1, 1, 0, 0, 0, 0, 0, 0, 1, 0, 0, 0, 1, 0, 1, 0, 0], dtype=object))\n",
      "('nsamples', 41)\n",
      "('Label', array([0, 1, 1, 0, 0, 0, 0, 0, 0, 1, 0, 0, 0, 1, 0, 0, 1, 0], dtype=object))\n",
      "('nsamples', 38)\n",
      "('Label', array([0, 1, 1, 0, 0, 0, 0, 0, 0, 1, 0, 0, 0, 0, 1, 0, 1, 0], dtype=object))\n",
      "('nsamples', 48)\n",
      "('Label', array([0, 1, 1, 0, 0, 0, 0, 0, 0, 0, 1, 0, 0, 1, 0, 1, 0, 0], dtype=object))\n",
      "('nsamples', 280)\n",
      "('Label', array([0, 1, 1, 0, 0, 0, 0, 0, 0, 0, 1, 0, 0, 0, 1, 1, 0, 0], dtype=object))\n",
      "('nsamples', 144)\n",
      "('Label', array([0, 1, 1, 0, 0, 0, 0, 0, 0, 0, 0, 1, 0, 1, 0, 1, 0, 0], dtype=object))\n",
      "('nsamples', 40)\n",
      "('Label', array([0, 1, 1, 0, 0, 0, 0, 0, 0, 0, 0, 1, 0, 0, 1, 1, 0, 0], dtype=object))\n",
      "('nsamples', 40)\n",
      "('Label', array([0, 1, 1, 0, 0, 0, 0, 0, 0, 0, 0, 0, 1, 1, 0, 1, 0, 0], dtype=object))\n",
      "('nsamples', 63)\n",
      "('Label', array([0, 1, 1, 0, 0, 0, 0, 0, 0, 0, 0, 0, 1, 0, 1, 1, 0, 0], dtype=object))\n",
      "('nsamples', 45)\n",
      "('Label', array([0, 1, 0, 1, 0, 0, 0, 0, 1, 0, 0, 0, 0, 1, 0, 1, 0, 0], dtype=object))\n",
      "('nsamples', 36)\n",
      "('Label', array([0, 1, 0, 1, 0, 0, 0, 0, 1, 0, 0, 0, 0, 0, 1, 1, 0, 0], dtype=object))\n",
      "('nsamples', 86)\n",
      "('Label', array([0, 1, 0, 1, 0, 0, 0, 0, 0, 1, 0, 0, 0, 1, 0, 1, 0, 0], dtype=object))\n",
      "('nsamples', 43)\n",
      "('Label', array([0, 1, 0, 1, 0, 0, 0, 0, 0, 1, 0, 0, 0, 1, 0, 0, 1, 0], dtype=object))\n",
      "('nsamples', 42)\n",
      "('Label', array([0, 1, 0, 1, 0, 0, 0, 0, 0, 1, 0, 0, 0, 0, 1, 0, 1, 0], dtype=object))\n",
      "('nsamples', 47)\n",
      "('Label', array([0, 1, 0, 1, 0, 0, 0, 0, 0, 0, 1, 0, 0, 0, 1, 1, 0, 0], dtype=object))\n",
      "('nsamples', 152)\n",
      "('Label', array([0, 1, 0, 1, 0, 0, 0, 0, 0, 0, 0, 1, 0, 1, 0, 1, 0, 0], dtype=object))\n",
      "('nsamples', 41)\n",
      "('Label', array([0, 1, 0, 1, 0, 0, 0, 0, 0, 0, 0, 1, 0, 0, 1, 1, 0, 0], dtype=object))\n",
      "('nsamples', 50)\n",
      "('Label', array([0, 1, 0, 1, 0, 0, 0, 0, 0, 0, 0, 0, 1, 1, 0, 1, 0, 0], dtype=object))\n",
      "('nsamples', 41)\n",
      "('Label', array([0, 1, 0, 0, 1, 0, 0, 0, 1, 0, 0, 0, 0, 1, 0, 1, 0, 0], dtype=object))\n",
      "('nsamples', 43)\n",
      "('Label', array([0, 1, 0, 0, 1, 0, 0, 0, 1, 0, 0, 0, 0, 0, 1, 1, 0, 0], dtype=object))\n",
      "('nsamples', 72)\n",
      "('Label', array([0, 1, 0, 0, 1, 0, 0, 0, 0, 1, 0, 0, 0, 0, 1, 1, 0, 0], dtype=object))\n",
      "('nsamples', 53)\n",
      "('Label', array([0, 1, 0, 0, 1, 0, 0, 0, 0, 1, 0, 0, 0, 0, 1, 0, 1, 0], dtype=object))\n",
      "('nsamples', 34)\n",
      "('Label', array([0, 1, 0, 0, 1, 0, 0, 0, 0, 0, 1, 0, 0, 1, 0, 1, 0, 0], dtype=object))\n",
      "('nsamples', 104)\n",
      "('Label', array([0, 1, 0, 0, 1, 0, 0, 0, 0, 0, 1, 0, 0, 0, 1, 1, 0, 0], dtype=object))\n",
      "('nsamples', 89)\n",
      "('Label', array([0, 1, 0, 0, 1, 0, 0, 0, 0, 0, 0, 1, 0, 1, 0, 1, 0, 0], dtype=object))\n",
      "('nsamples', 43)\n",
      "('Label', array([0, 1, 0, 0, 1, 0, 0, 0, 0, 0, 0, 1, 0, 0, 1, 1, 0, 0], dtype=object))\n",
      "('nsamples', 33)\n",
      "('Label', array([0, 1, 0, 0, 1, 0, 0, 0, 0, 0, 0, 0, 1, 1, 0, 1, 0, 0], dtype=object))\n",
      "('nsamples', 41)\n",
      "('Label', array([0, 1, 0, 0, 1, 0, 0, 0, 0, 0, 0, 0, 1, 0, 1, 1, 0, 0], dtype=object))\n"
     ]
    }
   ],
   "source": [
    "create_h5_data(np.hstack(X_test),np.vstack(Y_test),'test')\n"
   ]
  },
  {
   "cell_type": "markdown",
   "metadata": {
    "colab_type": "text",
    "id": "e67J5Al_FL8T"
   },
   "source": [
    "Check total number of images"
   ]
  },
  {
   "cell_type": "code",
   "execution_count": 17,
   "metadata": {
    "colab": {
     "base_uri": "https://localhost:8080/",
     "height": 399
    },
    "colab_type": "code",
    "id": "6D_IyeFhD9lH",
    "outputId": "fec334cb-5ca8-4200-cade-9b0664f7580e"
   },
   "outputs": [
    {
     "name": "stdout",
     "output_type": "stream",
     "text": [
      "('name', array(['8B11_2_MDHENA10480B0_CTGE_OPCTALR_CTA_H_N_DR_30_20',\n",
      "       '8B11_2_MDHENA10480B0_CTGE_OPCTALR_CTA_H_N_DR_30_20',\n",
      "       '8B11_2_MDHENA10480B0_CTGE_OPCTALR_CTA_H_N_DR_30_20',\n",
      "       '8B11_2_MDHENA10480B0_CTGE_OPCTALR_CTA_H_N_DR_30_20',\n",
      "       '8B11_2_MDHENA10480B0_CTGE_OPCTALR_CTA_H_N_DR_30_20',\n",
      "       '8B11_2_MDHENA10480B0_CTGE_OPCTALR_CTA_H_N_DR_30_20',\n",
      "       '8B11_2_MDHENA10480B0_CTGE_OPCTALR_CTA_H_N_DR_30_20',\n",
      "       '8B11_2_MDHENA10480B0_CTGE_OPCTALR_CTA_H_N_DR_30_20',\n",
      "       '8B11_2_MDHENA10480B0_CTGE_OPCTALR_CTA_H_N_DR_30_20',\n",
      "       '8B11_2_MDHENA10480B0_CTGE_OPCTALR_CTA_H_N_DR_30_20'], dtype='|S50'))\n",
      "('img', (10, 224, 224, 1))\n",
      "('label', array([[1, 0, 1, 0, 0, 0, 1, 0, 0, 0, 0, 0, 0, 0, 0, 1, 0, 0],\n",
      "       [1, 0, 1, 0, 0, 0, 1, 0, 0, 0, 0, 0, 0, 0, 0, 1, 0, 0],\n",
      "       [1, 0, 1, 0, 0, 0, 1, 0, 0, 0, 0, 0, 0, 0, 0, 1, 0, 0],\n",
      "       [1, 0, 1, 0, 0, 0, 1, 0, 0, 0, 0, 0, 0, 0, 0, 1, 0, 0],\n",
      "       [1, 0, 1, 0, 0, 0, 1, 0, 0, 0, 0, 0, 0, 0, 0, 1, 0, 0],\n",
      "       [1, 0, 1, 0, 0, 0, 1, 0, 0, 0, 0, 0, 0, 0, 0, 1, 0, 0],\n",
      "       [1, 0, 1, 0, 0, 0, 1, 0, 0, 0, 0, 0, 0, 0, 0, 1, 0, 0],\n",
      "       [1, 0, 1, 0, 0, 0, 1, 0, 0, 0, 0, 0, 0, 0, 0, 1, 0, 0],\n",
      "       [1, 0, 1, 0, 0, 0, 1, 0, 0, 0, 0, 0, 0, 0, 0, 1, 0, 0],\n",
      "       [1, 0, 1, 0, 0, 0, 1, 0, 0, 0, 0, 0, 0, 0, 0, 1, 0, 0]],\n",
      "      dtype=uint8))\n"
     ]
    }
   ],
   "source": [
    "hdf5_path = DATASET_STRUCTURED_DIR+\"/BrainHack_quality_train.hdf5\"\n",
    "\n",
    "with h5py.File(hdf5_path, 'r') as hdf5_file:\n",
    "    print('name',hdf5_file[\"names\"][:10])\n",
    "    print('img',hdf5_file[\"img\"][:10,:,:,:].shape)\n",
    "    print('label',hdf5_file[\"labels\"][:10,:])"
   ]
  },
  {
   "cell_type": "code",
   "execution_count": 28,
   "metadata": {
    "colab": {},
    "colab_type": "code",
    "id": "sL6zwJjvieaA"
   },
   "outputs": [],
   "source": [
    "#!rm \"/home/ubuntu/volume1/BrainHack/BrainHack_quality_test.hdf5\"\n"
   ]
  },
  {
   "cell_type": "code",
   "execution_count": null,
   "metadata": {},
   "outputs": [],
   "source": []
  }
 ],
 "metadata": {
  "accelerator": "GPU",
  "colab": {
   "collapsed_sections": [],
   "name": "Workshop_Create_h5",
   "provenance": []
  },
  "kernelspec": {
   "display_name": "Environment (conda_amazonei_tensorflow_p27)",
   "language": "python",
   "name": "conda_amazonei_tensorflow_p27"
  },
  "language_info": {
   "codemirror_mode": {
    "name": "ipython",
    "version": 2
   },
   "file_extension": ".py",
   "mimetype": "text/x-python",
   "name": "python",
   "nbconvert_exporter": "python",
   "pygments_lexer": "ipython2",
   "version": "2.7.15"
  }
 },
 "nbformat": 4,
 "nbformat_minor": 1
}
